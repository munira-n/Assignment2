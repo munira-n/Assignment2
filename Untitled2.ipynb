{
 "cells": [
  {
   "cell_type": "code",
   "execution_count": 1,
   "id": "6cdab5c6",
   "metadata": {},
   "outputs": [
    {
     "name": "stdout",
     "output_type": "stream",
     "text": [
      "This is list of products that should be bought this weekend.\n",
      "\n",
      "Let's enter name of the product and it's amount\n",
      "\n",
      "Enter: egg 5 \n",
      "\n",
      "Would you like to add product? (y/n) : y\n",
      "Enter: bread 2 \n",
      "\n",
      "Would you like to add product? (y/n) : y\n",
      "Enter: sugar 1 \n",
      "\n",
      "Would you like to add product? (y/n) : n\n",
      "egg 5 bread 2 sugar 1 \n"
     ]
    }
   ],
   "source": [
    "print(\"This is list of products that should be bought this weekend.\\n\")\n",
    "print(\"Let's enter name of the product and it's amount\\n\")\n",
    "#print(\"Please leave space after each entering\")\n",
    "product = input(\"Enter: \")\n",
    "while True:\n",
    "    keep_adding = input(\"\\nWould you like to add product? (y/n) : \")\n",
    "    if keep_adding == 'y' :\n",
    "        product +=input(\"Enter: \") \n",
    "    if keep_adding == 'n':\n",
    "            break\n",
    "print(product)\n",
    "\n",
    "#print(*product, sep = \"\\n\")\n",
    "#for x in product:\n",
    "    #rint(x) - I have tried to use some methods of listing, but I couldn't do it in a right way"
   ]
  },
  {
   "cell_type": "code",
   "execution_count": null,
   "id": "4831463a",
   "metadata": {},
   "outputs": [],
   "source": []
  }
 ],
 "metadata": {
  "kernelspec": {
   "display_name": "Python 3",
   "language": "python",
   "name": "python3"
  },
  "language_info": {
   "codemirror_mode": {
    "name": "ipython",
    "version": 3
   },
   "file_extension": ".py",
   "mimetype": "text/x-python",
   "name": "python",
   "nbconvert_exporter": "python",
   "pygments_lexer": "ipython3",
   "version": "3.8.8"
  }
 },
 "nbformat": 4,
 "nbformat_minor": 5
}
